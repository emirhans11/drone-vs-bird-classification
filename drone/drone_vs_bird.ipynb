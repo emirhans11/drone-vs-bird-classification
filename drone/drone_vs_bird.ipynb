{
  "nbformat": 4,
  "nbformat_minor": 0,
  "metadata": {
    "colab": {
      "provenance": [],
      "gpuType": "L4"
    },
    "kernelspec": {
      "name": "python3",
      "display_name": "Python 3"
    },
    "language_info": {
      "name": "python"
    },
    "accelerator": "GPU"
  },
  "cells": [
    {
      "cell_type": "code",
      "execution_count": 1,
      "metadata": {
        "colab": {
          "base_uri": "https://localhost:8080/"
        },
        "id": "7N3laHvpno3B",
        "outputId": "73331554-ff6a-471e-c082-4c88ec9e4cee"
      },
      "outputs": [
        {
          "output_type": "stream",
          "name": "stdout",
          "text": [
            "Mounted at /content/drive\n"
          ]
        }
      ],
      "source": [
        "from google.colab import drive\n",
        "drive.mount('/content/drive')\n"
      ]
    },
    {
      "cell_type": "code",
      "source": [
        "import os\n",
        "import shutil\n",
        "from sklearn.model_selection import train_test_split\n",
        "\n",
        "source_dir = \"/content/dataset\"\n",
        "train_dir = \"/content/data_split/train\"\n",
        "val_dir = \"/content/data_split/val\"\n",
        "\n",
        "# Her sınıf için ayrı işle\n",
        "for class_name in [\"bird\", \"drone\"]:\n",
        "    files = os.listdir(os.path.join(source_dir, class_name))\n",
        "    train_files, val_files = train_test_split(files, test_size=0.2, random_state=42)\n",
        "\n",
        "    # Eğitim klasörü\n",
        "    os.makedirs(os.path.join(train_dir, class_name), exist_ok=True)\n",
        "    for file in train_files:\n",
        "        src = os.path.join(source_dir, class_name, file)\n",
        "        dst = os.path.join(train_dir, class_name, file)\n",
        "        shutil.copyfile(src, dst)\n",
        "\n",
        "    # Validasyon klasörü\n",
        "    os.makedirs(os.path.join(val_dir, class_name), exist_ok=True)\n",
        "    for file in val_files:\n",
        "        src = os.path.join(source_dir, class_name, file)\n",
        "        dst = os.path.join(val_dir, class_name, file)\n",
        "        shutil.copyfile(src, dst)\n",
        "\n",
        "print(\"✅ Veriler eğitim ve doğrulama olarak ayrıldı.\")\n"
      ],
      "metadata": {
        "colab": {
          "base_uri": "https://localhost:8080/"
        },
        "id": "YThHG6Hgn1ev",
        "outputId": "d45733e0-b1d8-44cb-a437-e7ed6b502747"
      },
      "execution_count": 2,
      "outputs": [
        {
          "output_type": "stream",
          "name": "stdout",
          "text": [
            "✅ Veriler eğitim ve doğrulama olarak ayrıldı.\n"
          ]
        }
      ]
    },
    {
      "cell_type": "code",
      "source": [
        "import os\n",
        "import torch\n",
        "import torch.nn as nn\n",
        "import torch.optim as optim\n",
        "from torchvision import datasets, transforms, models\n",
        "from torch.optim.lr_scheduler import CosineAnnealingLR\n",
        "from torch.utils.data import DataLoader\n",
        "from sklearn.metrics import classification_report, confusion_matrix\n",
        "import matplotlib.pyplot as plt\n",
        "import seaborn as sns\n"
      ],
      "metadata": {
        "id": "Ahi6S3jan1he"
      },
      "execution_count": 3,
      "outputs": []
    },
    {
      "cell_type": "code",
      "source": [
        "data_dir = \"/content/data_split\"\n",
        "\n",
        "train_transforms = transforms.Compose([\n",
        "    transforms.Resize((224, 224)),\n",
        "    transforms.RandomHorizontalFlip(),\n",
        "    transforms.RandomRotation(15),\n",
        "    transforms.ColorJitter(brightness=0.2, contrast=0.2),\n",
        "    transforms.ToTensor(),\n",
        "    transforms.Normalize([0.485, 0.456, 0.406],\n",
        "                         [0.229, 0.224, 0.225])\n",
        "])\n",
        "\n",
        "val_transforms = transforms.Compose([\n",
        "    transforms.Resize((224, 224)),\n",
        "    transforms.ToTensor(),\n",
        "    transforms.Normalize([0.485, 0.456, 0.406],\n",
        "                         [0.229, 0.224, 0.225])\n",
        "])\n",
        "\n",
        "train_data = datasets.ImageFolder(os.path.join(data_dir, \"train\"), transform=train_transforms)\n",
        "val_data = datasets.ImageFolder(os.path.join(data_dir, \"val\"), transform=val_transforms)\n",
        "\n",
        "train_loader = DataLoader(train_data, batch_size=32, shuffle=True, num_workers=2)\n",
        "val_loader = DataLoader(val_data, batch_size=32, shuffle=False, num_workers=2)\n",
        "\n",
        "class_names = train_data.classes\n"
      ],
      "metadata": {
        "id": "7-e9GXmrn1kl"
      },
      "execution_count": 4,
      "outputs": []
    },
    {
      "cell_type": "code",
      "source": [
        "device = torch.device(\"cuda\" if torch.cuda.is_available() else \"cpu\")\n",
        "\n",
        "model = models.mobilenet_v2(pretrained=True)\n",
        "model.classifier[1] = nn.Linear(model.last_channel, 2)\n",
        "model = model.to(device)\n"
      ],
      "metadata": {
        "colab": {
          "base_uri": "https://localhost:8080/"
        },
        "id": "2NLOA91Wn1nX",
        "outputId": "3094c322-1dfb-4b57-b6f3-d80c55304c3d"
      },
      "execution_count": 5,
      "outputs": [
        {
          "output_type": "stream",
          "name": "stderr",
          "text": [
            "/usr/local/lib/python3.11/dist-packages/torchvision/models/_utils.py:208: UserWarning: The parameter 'pretrained' is deprecated since 0.13 and may be removed in the future, please use 'weights' instead.\n",
            "  warnings.warn(\n",
            "/usr/local/lib/python3.11/dist-packages/torchvision/models/_utils.py:223: UserWarning: Arguments other than a weight enum or `None` for 'weights' are deprecated since 0.13 and may be removed in the future. The current behavior is equivalent to passing `weights=MobileNet_V2_Weights.IMAGENET1K_V1`. You can also use `weights=MobileNet_V2_Weights.DEFAULT` to get the most up-to-date weights.\n",
            "  warnings.warn(msg)\n",
            "Downloading: \"https://download.pytorch.org/models/mobilenet_v2-b0353104.pth\" to /root/.cache/torch/hub/checkpoints/mobilenet_v2-b0353104.pth\n",
            "100%|██████████| 13.6M/13.6M [00:00<00:00, 130MB/s]\n"
          ]
        }
      ]
    },
    {
      "cell_type": "code",
      "source": [
        "criterion = nn.CrossEntropyLoss()\n",
        "optimizer = optim.AdamW(model.parameters(), lr=1e-4, weight_decay=1e-5)\n",
        "scheduler = CosineAnnealingLR(optimizer, T_max=10)\n"
      ],
      "metadata": {
        "id": "bBErycPZn1qX"
      },
      "execution_count": 6,
      "outputs": []
    },
    {
      "cell_type": "code",
      "source": [
        "def train_model(model, train_loader, val_loader, criterion, optimizer, scheduler, num_epochs=10):\n",
        "    best_acc = 0.0\n",
        "    for epoch in range(num_epochs):\n",
        "        print(f\"\\nEpoch {epoch+1}/{num_epochs}\")\n",
        "        print(\"-\"*30)\n",
        "\n",
        "        for phase in ['train', 'val']:\n",
        "            if phase == 'train':\n",
        "                model.train()\n",
        "                loader = train_loader\n",
        "            else:\n",
        "                model.eval()\n",
        "                loader = val_loader\n",
        "\n",
        "            running_loss = 0.0\n",
        "            running_corrects = 0\n",
        "            all_preds = []\n",
        "            all_labels = []\n",
        "\n",
        "            for inputs, labels in loader:\n",
        "                inputs, labels = inputs.to(device), labels.to(device)\n",
        "                optimizer.zero_grad()\n",
        "\n",
        "                with torch.set_grad_enabled(phase == 'train'):\n",
        "                    outputs = model(inputs)\n",
        "                    _, preds = torch.max(outputs, 1)\n",
        "                    loss = criterion(outputs, labels)\n",
        "\n",
        "                    if phase == 'train':\n",
        "                        loss.backward()\n",
        "                        optimizer.step()\n",
        "\n",
        "                running_loss += loss.item() * inputs.size(0)\n",
        "                running_corrects += torch.sum(preds == labels.data)\n",
        "\n",
        "                all_preds.extend(preds.cpu().numpy())\n",
        "                all_labels.extend(labels.cpu().numpy())\n",
        "\n",
        "            epoch_loss = running_loss / len(loader.dataset)\n",
        "            epoch_acc = running_corrects.double() / len(loader.dataset)\n",
        "            print(f\"{phase} Loss: {epoch_loss:.4f} Acc: {epoch_acc:.4f}\")\n",
        "\n",
        "            if phase == 'val':\n",
        "                scheduler.step()\n",
        "                if epoch_acc > best_acc:\n",
        "                    best_acc = epoch_acc\n",
        "                    torch.save(model.state_dict(), \"best_model.pt\")\n",
        "                    print(\"✅ Yeni en iyi model kaydedildi!\")\n",
        "\n",
        "    print(\"\\n🏁 Eğitim tamamlandı.\")\n",
        "    return model\n"
      ],
      "metadata": {
        "id": "4ZDkfd4Yn1tO"
      },
      "execution_count": 7,
      "outputs": []
    },
    {
      "cell_type": "code",
      "source": [
        "model = train_model(model, train_loader, val_loader, criterion, optimizer, scheduler, num_epochs=10)\n"
      ],
      "metadata": {
        "colab": {
          "base_uri": "https://localhost:8080/"
        },
        "id": "JgSqkzQ0n1we",
        "outputId": "8985d8d3-ba08-4889-d737-9a04cd2490e0"
      },
      "execution_count": 8,
      "outputs": [
        {
          "output_type": "stream",
          "name": "stdout",
          "text": [
            "\n",
            "Epoch 1/10\n",
            "------------------------------\n",
            "train Loss: 0.1270 Acc: 0.9528\n",
            "val Loss: 0.0283 Acc: 0.9951\n",
            "✅ Yeni en iyi model kaydedildi!\n",
            "\n",
            "Epoch 2/10\n",
            "------------------------------\n",
            "train Loss: 0.0536 Acc: 0.9802\n",
            "val Loss: 0.0158 Acc: 0.9951\n",
            "\n",
            "Epoch 3/10\n",
            "------------------------------\n",
            "train Loss: 0.0272 Acc: 0.9933\n",
            "val Loss: 0.0033 Acc: 0.9988\n",
            "✅ Yeni en iyi model kaydedildi!\n",
            "\n",
            "Epoch 4/10\n",
            "------------------------------\n",
            "train Loss: 0.0178 Acc: 0.9924\n",
            "val Loss: 0.0045 Acc: 0.9988\n",
            "\n",
            "Epoch 5/10\n",
            "------------------------------\n",
            "train Loss: 0.0120 Acc: 0.9957\n",
            "val Loss: 0.0094 Acc: 0.9988\n",
            "\n",
            "Epoch 6/10\n",
            "------------------------------\n",
            "train Loss: 0.0067 Acc: 0.9979\n",
            "val Loss: 0.0026 Acc: 0.9988\n",
            "\n",
            "Epoch 7/10\n",
            "------------------------------\n",
            "train Loss: 0.0052 Acc: 0.9982\n",
            "val Loss: 0.0056 Acc: 0.9988\n",
            "\n",
            "Epoch 8/10\n",
            "------------------------------\n",
            "train Loss: 0.0038 Acc: 0.9985\n",
            "val Loss: 0.0053 Acc: 0.9988\n",
            "\n",
            "Epoch 9/10\n",
            "------------------------------\n",
            "train Loss: 0.0043 Acc: 0.9988\n",
            "val Loss: 0.0049 Acc: 0.9988\n",
            "\n",
            "Epoch 10/10\n",
            "------------------------------\n",
            "train Loss: 0.0031 Acc: 0.9988\n",
            "val Loss: 0.0044 Acc: 0.9988\n",
            "\n",
            "🏁 Eğitim tamamlandı.\n"
          ]
        }
      ]
    },
    {
      "cell_type": "code",
      "source": [
        "!cp best_model.pt /content/drive/MyDrive/best_model_drone_bird.pt\n"
      ],
      "metadata": {
        "id": "PuRe5rKbn1zP"
      },
      "execution_count": 9,
      "outputs": []
    },
    {
      "cell_type": "code",
      "source": [
        "from sklearn.metrics import classification_report, confusion_matrix\n",
        "import matplotlib.pyplot as plt\n",
        "import seaborn as sns\n",
        "\n",
        "# Modeli yükle\n",
        "model.load_state_dict(torch.load(\"best_model.pt\"))\n",
        "model.eval()\n",
        "\n",
        "# Tahmin ve gerçek etiketleri topla\n",
        "all_preds = []\n",
        "all_labels = []\n",
        "\n",
        "with torch.no_grad():\n",
        "    for inputs, labels in val_loader:\n",
        "        inputs, labels = inputs.to(device), labels.to(device)\n",
        "        outputs = model(inputs)\n",
        "        _, preds = torch.max(outputs, 1)\n",
        "\n",
        "        all_preds.extend(preds.cpu().numpy())\n",
        "        all_labels.extend(labels.cpu().numpy())\n",
        "\n",
        "# Sınıf isimlerini göster\n",
        "print(\"Sınıflar:\", class_names)\n",
        "\n",
        "# Classification Report\n",
        "print(\"\\n📊 Classification Report:\")\n",
        "print(classification_report(all_labels, all_preds, target_names=class_names))\n",
        "\n",
        "# Confusion Matrix\n",
        "cm = confusion_matrix(all_labels, all_preds)\n",
        "plt.figure(figsize=(6, 5))\n",
        "sns.heatmap(cm, annot=True, fmt='d', cmap=\"Blues\", xticklabels=class_names, yticklabels=class_names)\n",
        "plt.xlabel(\"Tahmin Edilen\")\n",
        "plt.ylabel(\"Gerçek\")\n",
        "plt.title(\"📌 Confusion Matrix\")\n",
        "plt.show()\n"
      ],
      "metadata": {
        "colab": {
          "base_uri": "https://localhost:8080/",
          "height": 730
        },
        "id": "vjVjlpdttSWJ",
        "outputId": "9e37112a-d921-4388-e967-a54b04eadeae"
      },
      "execution_count": 10,
      "outputs": [
        {
          "output_type": "stream",
          "name": "stdout",
          "text": [
            "Sınıflar: ['bird', 'drone']\n",
            "\n",
            "📊 Classification Report:\n",
            "              precision    recall  f1-score   support\n",
            "\n",
            "        bird       1.00      1.00      1.00       322\n",
            "       drone       1.00      1.00      1.00       500\n",
            "\n",
            "    accuracy                           1.00       822\n",
            "   macro avg       1.00      1.00      1.00       822\n",
            "weighted avg       1.00      1.00      1.00       822\n",
            "\n"
          ]
        },
        {
          "output_type": "stream",
          "name": "stderr",
          "text": [
            "/usr/local/lib/python3.11/dist-packages/IPython/core/pylabtools.py:151: UserWarning: Glyph 128204 (\\N{PUSHPIN}) missing from font(s) DejaVu Sans.\n",
            "  fig.canvas.print_figure(bytes_io, **kw)\n"
          ]
        },
        {
          "output_type": "display_data",
          "data": {
            "text/plain": [
              "<Figure size 600x500 with 2 Axes>"
            ],
            "image/png": "[encoded data removed]"
          },
          "metadata": {}
        }
      ]
    },
    {
      "cell_type": "code",
      "source": [
        "from torchvision import datasets, transforms\n",
        "from torch.utils.data import DataLoader\n",
        "from sklearn.metrics import classification_report, confusion_matrix\n",
        "import seaborn as sns\n",
        "import matplotlib.pyplot as plt\n",
        "import torch\n",
        "\n",
        "# Preprocessing\n",
        "test_transform = transforms.Compose([\n",
        "    transforms.Resize((224, 224)),\n",
        "    transforms.ToTensor(),\n",
        "    transforms.Normalize([0.485, 0.456, 0.406],\n",
        "                         [0.229, 0.224, 0.225])\n",
        "])\n",
        "\n",
        "# 🔥 Sadece .jpg, .jpeg, .png olanları yüklesin\n",
        "custom_test_data = datasets.ImageFolder(\n",
        "    root=\"/content/custom_test\",\n",
        "    transform=test_transform,\n",
        "    is_valid_file=lambda x: x.endswith((\".jpg\", \".jpeg\", \".png\"))\n",
        ")\n",
        "custom_test_loader = DataLoader(custom_test_data, batch_size=1, shuffle=False)\n",
        "\n",
        "# Modeli yükle\n",
        "model.load_state_dict(torch.load(\"best_model.pt\", map_location=device))\n",
        "model.eval()\n",
        "\n",
        "# Tahmin et\n",
        "all_preds = []\n",
        "all_labels = []\n",
        "\n",
        "with torch.no_grad():\n",
        "    for inputs, labels in custom_test_loader:\n",
        "        inputs = inputs.to(device)\n",
        "        outputs = model(inputs)\n",
        "        _, preds = torch.max(outputs, 1)\n",
        "\n",
        "        all_preds.extend(preds.cpu().numpy())\n",
        "        all_labels.extend(labels.cpu().numpy())\n",
        "\n",
        "# Sonuçları yazdır\n",
        "print(\"📊 Classification Report:\")\n",
        "print(classification_report(all_labels, all_preds, target_names=custom_test_data.classes))\n",
        "\n",
        "# Confusion Matrix\n",
        "cm = confusion_matrix(all_labels, all_preds)\n",
        "plt.figure(figsize=(6, 5))\n",
        "sns.heatmap(cm, annot=True, fmt='d', cmap=\"YlGnBu\", xticklabels=custom_test_data.classes, yticklabels=custom_test_data.classes)\n",
        "plt.xlabel(\"Tahmin\")\n",
        "plt.ylabel(\"Gerçek\")\n",
        "plt.title(\"🧪 Gerçek Dünya Test - Confusion Matrix\")\n",
        "plt.show()\n"
      ],
      "metadata": {
        "colab": {
          "base_uri": "https://localhost:8080/",
          "height": 695
        },
        "id": "EWUodIi0yFMc",
        "outputId": "3bcad09a-a208-4da6-9bb3-1816755b098a"
      },
      "execution_count": 15,
      "outputs": [
        {
          "output_type": "stream",
          "name": "stdout",
          "text": [
            "📊 Classification Report:\n",
            "              precision    recall  f1-score   support\n",
            "\n",
            "        bird       1.00      1.00      1.00         5\n",
            "       drone       1.00      1.00      1.00         5\n",
            "\n",
            "    accuracy                           1.00        10\n",
            "   macro avg       1.00      1.00      1.00        10\n",
            "weighted avg       1.00      1.00      1.00        10\n",
            "\n"
          ]
        },
        {
          "output_type": "stream",
          "name": "stderr",
          "text": [
            "/usr/local/lib/python3.11/dist-packages/IPython/core/pylabtools.py:151: UserWarning: Glyph 129514 (\\N{TEST TUBE}) missing from font(s) DejaVu Sans.\n",
            "  fig.canvas.print_figure(bytes_io, **kw)\n"
          ]
        },
        {
          "output_type": "display_data",
          "data": {
            "text/plain": [
              "<Figure size 600x500 with 2 Axes>"
            ],
            "image/png": "[encoded data removed]"
          },
          "metadata": {}
        }
      ]
    },
    {
      "cell_type": "code",
      "source": [
        "!rm -r /content/custom_test/.ipynb_checkpoints || echo \"Zaten yok\"\n"
      ],
      "metadata": {
        "id": "j92W32VPyowF"
      },
      "execution_count": 14,
      "outputs": []
    },
    {
      "cell_type": "code",
      "source": [
        "!cp best_model.pt /content/drive/MyDrive/best_model_drone_bird.pt\n"
      ],
      "metadata": {
        "id": "alJKL8AVu_eJ"
      },
      "execution_count": 11,
      "outputs": []
    }
  ]
}